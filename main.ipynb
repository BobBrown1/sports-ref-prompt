{
 "cells": [
  {
   "cell_type": "code",
   "execution_count": null,
   "id": "80b6de00",
   "metadata": {},
   "outputs": [],
   "source": [
    "# using pandas to create the table and json to extract the json data\n",
    "import pandas as pd\n",
    "import json"
   ]
  },
  {
   "cell_type": "code",
   "execution_count": null,
   "id": "edd41156",
   "metadata": {},
   "outputs": [],
   "source": [
    "# this is our function to create the table\n",
    "def create_table(records):\n",
    "    # we can make a list of the teams by using keys()\n",
    "    teams = list(records.keys())\n",
    "    # now we can create our initial table which will not be organized\n",
    "    df = pd.DataFrame(records)\n",
    "    # setting each row index to the team name\n",
    "    df.index = teams\n",
    "    # now we can cycle through each team\n",
    "    for team in teams:\n",
    "        # within each team, we want to cycle through each team again to find the opponents\n",
    "        for opponent in teams:\n",
    "            # now let's make sure that we're getting the record for our team against a different opponent\n",
    "            if team != opponent:\n",
    "                # setting that cell in the table to the win record\n",
    "                df.at[team, opponent] = records[team][opponent]['W']\n",
    "            # if the team is equal to the opponent\n",
    "            else:\n",
    "                # set the win record to --\n",
    "                df.at[team, opponent] = \"--\"\n",
    "    return df"
   ]
  },
  {
   "cell_type": "code",
   "execution_count": 7,
   "id": "48adaf20",
   "metadata": {},
   "outputs": [],
   "source": [
    "# here we load our records from the JSON file\n",
    "with open (\"stats.json\", \"r\") as f:\n",
    "    stats = json.load(f)\n",
    "\n",
    "# calling the function and storing the result in a variable\n",
    "result = create_table(stats)\n",
    "#returning the final table visual\n",
    "result.head(8)"
   ]
  }
 ],
 "metadata": {
  "kernelspec": {
   "display_name": "Python 3 (ipykernel)",
   "language": "python",
   "name": "python3"
  },
  "language_info": {
   "codemirror_mode": {
    "name": "ipython",
    "version": 3
   },
   "file_extension": ".py",
   "mimetype": "text/x-python",
   "name": "python",
   "nbconvert_exporter": "python",
   "pygments_lexer": "ipython3",
   "version": "3.10.1"
  },
  "vscode": {
   "interpreter": {
    "hash": "1a1af0ee75eeea9e2e1ee996c87e7a2b11a0bebd85af04bb136d915cefc0abce"
   }
  }
 },
 "nbformat": 4,
 "nbformat_minor": 5
}
