{
 "cells": [
  {
   "cell_type": "code",
   "execution_count": null,
   "id": "80b6de00",
   "metadata": {},
   "outputs": [],
   "source": [
    "import pandas as pd\n",
    "import json"
   ]
  },
  {
   "cell_type": "code",
   "execution_count": null,
   "id": "edd41156",
   "metadata": {},
   "outputs": [],
   "source": [
    "def create_table(records):\n",
    "    teams = list(records.keys())\n",
    "    df = pd.DataFrame(records)\n",
    "    df.index = teams\n",
    "    for team in teams:\n",
    "        for opponent in teams:\n",
    "            if team != opponent:\n",
    "                df.at[team, opponent] = stats[team][opponent]['W']\n",
    "            else:\n",
    "                df.at[team, opponent] = \"--\"\n",
    "    return df"
   ]
  },
  {
   "cell_type": "code",
   "execution_count": 7,
   "id": "48adaf20",
   "metadata": {},
   "outputs": [],
   "source": [
    "with open (\"stats.json\", \"r\") as f:\n",
    "    stats = json.load(f)\n",
    "\n",
    "result = create_table(stats)\n",
    "result.head(8)"
   ]
  }
 ],
 "metadata": {
  "kernelspec": {
   "display_name": "Python 3 (ipykernel)",
   "language": "python",
   "name": "python3"
  },
  "language_info": {
   "codemirror_mode": {
    "name": "ipython",
    "version": 3
   },
   "file_extension": ".py",
   "mimetype": "text/x-python",
   "name": "python",
   "nbconvert_exporter": "python",
   "pygments_lexer": "ipython3",
   "version": "3.10.1"
  },
  "vscode": {
   "interpreter": {
    "hash": "1a1af0ee75eeea9e2e1ee996c87e7a2b11a0bebd85af04bb136d915cefc0abce"
   }
  }
 },
 "nbformat": 4,
 "nbformat_minor": 5
}
